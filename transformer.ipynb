{
 "cells": [
  {
   "cell_type": "code",
   "execution_count": 1,
   "metadata": {},
   "outputs": [],
   "source": [
    "import torch"
   ]
  },
  {
   "cell_type": "code",
   "execution_count": 2,
   "metadata": {},
   "outputs": [],
   "source": [
    "transformer_model = torch.nn.Transformer(nhead=1, num_encoder_layers=12, d_model=3)\n",
    "src = torch.rand((100, 3, 3, 3))\n",
    "tgt = torch.rand((100, 3, 3, 3))\n",
    "# out = transformer_model(src, tgt)"
   ]
  },
  {
   "cell_type": "code",
   "execution_count": 3,
   "metadata": {},
   "outputs": [
    {
     "data": {
      "text/plain": [
       "tensor([[[0.3315, 0.5658, 0.3146],\n",
       "         [0.1168, 0.2926, 0.2230],\n",
       "         [0.6852, 0.0062, 0.8144]],\n",
       "\n",
       "        [[0.4144, 0.6041, 0.1735],\n",
       "         [0.2053, 0.3496, 0.0726],\n",
       "         [0.4053, 0.6101, 0.8128]],\n",
       "\n",
       "        [[0.6289, 0.4615, 0.8786],\n",
       "         [0.7001, 0.1040, 0.1467],\n",
       "         [0.7462, 0.5136, 0.6664]]])"
      ]
     },
     "execution_count": 3,
     "metadata": {},
     "output_type": "execute_result"
    }
   ],
   "source": [
    "src[0]"
   ]
  },
  {
   "cell_type": "code",
   "execution_count": 4,
   "metadata": {},
   "outputs": [
    {
     "data": {
      "text/plain": [
       "tensor([[0.3315, 0.5658, 0.3146, 0.1168, 0.2926, 0.2230, 0.6852, 0.0062, 0.8144],\n",
       "        [0.4144, 0.6041, 0.1735, 0.2053, 0.3496, 0.0726, 0.4053, 0.6101, 0.8128],\n",
       "        [0.6289, 0.4615, 0.8786, 0.7001, 0.1040, 0.1467, 0.7462, 0.5136, 0.6664]])"
      ]
     },
     "execution_count": 4,
     "metadata": {},
     "output_type": "execute_result"
    }
   ],
   "source": [
    "x = torch.flatten(src[0], start_dim=1)\n",
    "# x = torch.flatten(x, 1, 1)\n",
    "x"
   ]
  },
  {
   "cell_type": "code",
   "execution_count": 5,
   "metadata": {},
   "outputs": [
    {
     "data": {
      "text/plain": [
       "tensor([[-1.3905,  0.4717,  0.9187],\n",
       "        [-1.3997,  0.5250,  0.8747],\n",
       "        [-1.3756,  0.4036,  0.9720]], grad_fn=<SelectBackward>)"
      ]
     },
     "execution_count": 5,
     "metadata": {},
     "output_type": "execute_result"
    }
   ],
   "source": [
    "out[0]"
   ]
  },
  {
   "cell_type": "code",
   "execution_count": null,
   "metadata": {},
   "outputs": [],
   "source": []
  }
 ],
 "metadata": {
  "kernelspec": {
   "display_name": "Python 3",
   "language": "python",
   "name": "python3"
  },
  "language_info": {
   "codemirror_mode": {
    "name": "ipython",
    "version": 3
   },
   "file_extension": ".py",
   "mimetype": "text/x-python",
   "name": "python",
   "nbconvert_exporter": "python",
   "pygments_lexer": "ipython3",
   "version": "3.7.3"
  }
 },
 "nbformat": 4,
 "nbformat_minor": 4
}
