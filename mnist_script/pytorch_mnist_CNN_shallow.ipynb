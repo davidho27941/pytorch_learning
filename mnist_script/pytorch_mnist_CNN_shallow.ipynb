{
 "cells": [
  {
   "cell_type": "code",
   "execution_count": 1,
   "metadata": {},
   "outputs": [],
   "source": [
    "import torch, tqdm\n",
    "import matplotlib.pyplot as plt\n",
    "from torchvision import datasets, transforms\n",
    "import numpy as np\n",
    "import matplotlib.pyplot as plt\n",
    "import pandas as pd\n",
    "from torch.utils.data.sampler import SubsetRandomSampler"
   ]
  },
  {
   "cell_type": "code",
   "execution_count": 2,
   "metadata": {},
   "outputs": [
    {
     "name": "stdout",
     "output_type": "stream",
     "text": [
      "GPU State: cuda:0\n"
     ]
    }
   ],
   "source": [
    "# GPU\n",
    "device = 'cuda:0' if torch.cuda.is_available() else 'cpu'\n",
    "print('GPU State:', device)"
   ]
  },
  {
   "cell_type": "code",
   "execution_count": 3,
   "metadata": {},
   "outputs": [],
   "source": [
    "def weights_init(m):\n",
    "    if isinstance(m, torch.nn.Conv2d):\n",
    "        torch.nn.init.xavier_uniform(m.weight.data)"
   ]
  },
  {
   "cell_type": "code",
   "execution_count": 4,
   "metadata": {},
   "outputs": [],
   "source": [
    "# Transform\n",
    "transform = transforms.Compose(\n",
    "    [transforms.ToTensor(),\n",
    "     transforms.Normalize((0.5,), (0.5,)),]\n",
    ")"
   ]
  },
  {
   "cell_type": "code",
   "execution_count": 5,
   "metadata": {},
   "outputs": [],
   "source": [
    "# Data\n",
    "valid_size=0.2\n",
    "shuffle = True\n",
    "random_seed = 100\n",
    "trainSet = datasets.MNIST(root='MNIST', download=True, train=True, transform=transform)\n",
    "valSet = datasets.MNIST(root='MNIST', download=True, train=True, transform=transform)\n",
    "testSet = datasets.MNIST(root='MNIST', download=True, train=False, transform=transform)\n",
    "\n",
    "num_train = len(trainSet)\n",
    "indices = list(range(num_train))\n",
    "split = int(np.floor(valid_size * num_train))\n",
    "\n",
    "if shuffle == True:\n",
    "    np.random.seed(random_seed)\n",
    "    np.random.shuffle(indices)\n",
    "train_idx, valid_idx = indices[split:], indices[:split]\n",
    "\n",
    "train_sampler = SubsetRandomSampler(train_idx)\n",
    "valid_sampler = SubsetRandomSampler(valid_idx)\n",
    "\n",
    "trainLoader = torch.utils.data.DataLoader(trainSet, batch_size=64, sampler=train_sampler)\n",
    "valLoader = torch.utils.data.DataLoader(valSet, batch_size=64, sampler=valid_sampler)\n",
    "testLoader = torch.utils.data.DataLoader(testSet, batch_size=64, shuffle=False)"
   ]
  },
  {
   "cell_type": "code",
   "execution_count": 6,
   "metadata": {},
   "outputs": [
    {
     "name": "stdout",
     "output_type": "stream",
     "text": [
      "Shallow_Net(\n",
      "  (main): Sequential(\n",
      "    (0): Conv2d(1, 10, kernel_size=(2, 2), stride=(1, 1))\n",
      "    (1): ReLU()\n",
      "    (2): Conv2d(10, 20, kernel_size=(2, 2), stride=(1, 1))\n",
      "    (3): ReLU()\n",
      "    (4): Flatten()\n",
      "    (5): Linear(in_features=13520, out_features=10, bias=True)\n",
      "    (6): Softmax(dim=1)\n",
      "  )\n",
      ")\n",
      "Shallow_Net_w_MaxPooling(\n",
      "  (main): Sequential(\n",
      "    (0): Conv2d(1, 10, kernel_size=(2, 2), stride=(1, 1))\n",
      "    (1): ReLU()\n",
      "    (2): Conv2d(10, 20, kernel_size=(2, 2), stride=(1, 1))\n",
      "    (3): ReLU()\n",
      "    (4): MaxPool2d(kernel_size=2, stride=1, padding=0, dilation=1, ceil_mode=False)\n",
      "    (5): Flatten()\n",
      "    (6): Linear(in_features=12500, out_features=10, bias=True)\n",
      "    (7): Softmax(dim=1)\n",
      "  )\n",
      ")\n"
     ]
    }
   ],
   "source": [
    "# Model\n",
    "class Shallow_Net(torch.nn.Module):\n",
    "    def __init__(self):\n",
    "        super(Shallow_Net, self).__init__()\n",
    "        self.main = torch.nn.Sequential(\n",
    "            torch.nn.Conv2d(in_channels=1, out_channels=10, kernel_size=2),\n",
    "            torch.nn.ReLU(),\n",
    "            torch.nn.Conv2d(in_channels=10, out_channels=20, kernel_size=2),\n",
    "            torch.nn.ReLU(),\n",
    "            torch.nn.Flatten(),\n",
    "            torch.nn.Linear(in_features=20*676, out_features=10),\n",
    "            torch.nn.Softmax(dim=1)\n",
    "        )\n",
    "\n",
    "    def forward(self, input):\n",
    "        return self.main(input)\n",
    "\n",
    "class Shallow_Net_w_MaxPooling(torch.nn.Module):\n",
    "    def __init__(self):\n",
    "        super(Shallow_Net_w_MaxPooling, self).__init__()\n",
    "        self.main = torch.nn.Sequential(\n",
    "            torch.nn.Conv2d(in_channels=1, out_channels=10, kernel_size=2),\n",
    "            torch.nn.ReLU(),\n",
    "            torch.nn.Conv2d(in_channels=10, out_channels=20, kernel_size=2),\n",
    "            torch.nn.ReLU(),\n",
    "            torch.nn.MaxPool2d(2, 1),\n",
    "            torch.nn.Flatten(),\n",
    "            torch.nn.Linear(in_features=20*625, out_features=10),\n",
    "            torch.nn.Softmax(dim=1)\n",
    "        )\n",
    "\n",
    "    def forward(self, input):\n",
    "        return self.main(input)\n",
    "    \n",
    "net_1 = Shallow_Net().to(device)\n",
    "net_2 = Shallow_Net_w_MaxPooling().to(device)\n",
    "print(net_1)\n",
    "print(net_2)"
   ]
  },
  {
   "cell_type": "code",
   "execution_count": 7,
   "metadata": {},
   "outputs": [],
   "source": [
    "def train_fn(epochs, lr, optimizer_name, net ):\n",
    "    criterion = torch.nn.CrossEntropyLoss()\n",
    "    if optimizer_name == 'SGD':\n",
    "        optimizer = torch.optim.SGD(net.parameters(), lr=lr, momentum=0.9)\n",
    "    elif optimizer_name == 'Adam':\n",
    "        optimizer = torch.optim.Adam(net.parameters(), lr=0.002)\n",
    "    else : \n",
    "        print(\"Error, please input 'SGD' or Adam.\")\n",
    "    # Train\n",
    "    epoch_loss = []\n",
    "    epoch_acc = []\n",
    "    epoch_val_loss = []\n",
    "    epoch_val_acc = []\n",
    "    for epoch in range(epochs):\n",
    "        running_loss = 0.0\n",
    "        running_acc = 0.0\n",
    "        running_loss_val = 0.0\n",
    "        running_acc_val = 0.0\n",
    "        \n",
    "        for times, data in enumerate(trainLoader):\n",
    "            net.train()\n",
    "#             print(\"Training\")\n",
    "            inputs, labels = data[0].to(device), data[1].to(device)\n",
    "    #         inputs = inputs.view(inputs.shape[0], -1)\n",
    "\n",
    "            # Zero the parameter gradients\n",
    "            optimizer.zero_grad()\n",
    "\n",
    "            # Foward + backward + optimize\n",
    "            outputs = net(inputs)\n",
    "            _, predicted = torch.max(outputs.data, 1)\n",
    "            loss = criterion(outputs, labels)\n",
    "            loss.backward()\n",
    "            optimizer.step()\n",
    "\n",
    "            # Print statistics\n",
    "            running_loss += loss.item()\n",
    "            running_acc += (labels==predicted).sum().item()\n",
    "#             if times % 100 == 99 or times+1 == len(trainLoader):\n",
    "#                 print('[%d/%d, %d/%d] loss: %.3f' % (epoch+1, epochs, times+1, len(trainLoader), running_loss/2000))\n",
    "        with torch.no_grad():\n",
    "            net.eval()\n",
    "#             print(\"Validating.\")\n",
    "            for times_val, data_val in enumerate(valLoader):\n",
    "                inputs_val, labels_val = data_val[0].to(device), data_val[1].to(device)\n",
    "        #         inputs = inputs.view(inputs.shape[0], -1)\n",
    "\n",
    "                # Zero the parameter gradients\n",
    "                optimizer.zero_grad()\n",
    "\n",
    "                # Foward + backward + optimize\n",
    "                outputs_val = net(inputs_val)\n",
    "                _, predicted_val = torch.max(outputs_val.data, 1)\n",
    "                loss_val = criterion(outputs_val, labels_val)\n",
    "#                     loss_val.backward()\n",
    "#                     optimizer.step()\n",
    "\n",
    "                # Print statistics\n",
    "                running_loss_val += loss_val.item()\n",
    "                running_acc_val += (labels_val==predicted_val).sum().item()\n",
    "            _epoch_val_loss = running_loss_val/len(valLoader)\n",
    "            _epoch_val_acc = running_acc_val/len(valLoader)\n",
    "            epoch_val_loss.append(_epoch_val_loss)\n",
    "            epoch_val_acc.append(_epoch_val_acc)\n",
    "                \n",
    "        _epoch_loss = running_loss/len(trainLoader)\n",
    "        _epoch_acc = running_acc/len(trainLoader)\n",
    "        epoch_loss.append(_epoch_loss)\n",
    "        epoch_acc.append(_epoch_acc)\n",
    "        print(\"Epoch: {0}, loss: {1:.3f}, acc: {2:.3f}, val_loss: {3:.3f}, val_acc: {4:.3f}\".format(epoch+1, _epoch_loss, _epoch_acc, _epoch_val_loss, _epoch_val_acc))\n",
    "    print('Training Finished.')\n",
    "    \n",
    "    correct = 0\n",
    "    total = 0\n",
    "\n",
    "    with torch.no_grad():\n",
    "        for data in testLoader:\n",
    "            inputs, labels = data\n",
    "            inputs, labels = inputs.to(device), labels.to(device)\n",
    "    #         inputs = inputs.view(inputs.shape[0], -1)\n",
    "\n",
    "            outputs = net(inputs)\n",
    "            _, predicted = torch.max(outputs.data, 1)\n",
    "            total += labels.size(0)\n",
    "            correct += (predicted == labels).sum().item()\n",
    "\n",
    "    print('Accuracy of the network on the 10000 test images: %d %%' % (100*correct / total))\n",
    "\n",
    "    class_correct = [0 for i in range(10)]\n",
    "    class_total = [0 for i in range(10)]\n",
    "\n",
    "    with torch.no_grad():\n",
    "        net.eval()\n",
    "        for data in testLoader:\n",
    "            inputs, labels = data[0].to(device), data[1].to(device)\n",
    "    #         inputs = inputs.view(inputs.shape[0], -1)\n",
    "\n",
    "            outputs = net(inputs)\n",
    "            _, predicted = torch.max(outputs, 1)\n",
    "            c = (predicted == labels).squeeze()\n",
    "            for i in range(10):\n",
    "                label = labels[i]\n",
    "                class_correct[label] += c[i].item()\n",
    "                class_total[label] += 1\n",
    "    #             print(class_correct)\n",
    "    #             print(class_total)\n",
    "\n",
    "    for i in range(10):\n",
    "        print('Accuracy of %d: %3f' % (i, (class_correct[i]/class_total[i])))\n",
    "    acc = (100*correct / total)\n",
    "    x = np.linspace(1, epochs, num = epochs)\n",
    "    plt.plot(x, np.array(epoch_acc)/100, label='acc')\n",
    "    plt.plot(x, epoch_loss, label='loss')\n",
    "    plt.plot(x, epoch_val_loss, label='val_loss')\n",
    "    plt.plot(x, np.array(epoch_val_acc)/100, label='epoch_acc')\n",
    "    plt.xlabel('epochs')\n",
    "    plt.ylabel('acc/loss')\n",
    "    plt.legend(loc=\"upper right\")\n",
    "    plt.savefig(\"mnist_cnn_\"+optimizer_name+\"_ce_shallow_\"+str(int(acc))+\".png\")\n",
    "    plt.show()"
   ]
  },
  {
   "cell_type": "code",
   "execution_count": 15,
   "metadata": {},
   "outputs": [
    {
     "name": "stdout",
     "output_type": "stream",
     "text": [
      "Epoch: 1, loss: 1.706, acc: 48.359, val_loss: 1.588, val_acc: 55.787\n",
      "Epoch: 2, loss: 1.550, acc: 58.393, val_loss: 1.499, val_acc: 61.505\n",
      "Epoch: 3, loss: 1.487, acc: 62.396, val_loss: 1.495, val_acc: 61.729\n",
      "Epoch: 4, loss: 1.482, acc: 62.709, val_loss: 1.489, val_acc: 62.128\n",
      "Epoch: 5, loss: 1.479, acc: 62.908, val_loss: 1.485, val_acc: 62.340\n",
      "Epoch: 6, loss: 1.476, acc: 63.071, val_loss: 1.489, val_acc: 62.069\n",
      "Epoch: 7, loss: 1.475, acc: 63.120, val_loss: 1.485, val_acc: 62.324\n",
      "Epoch: 8, loss: 1.473, acc: 63.240, val_loss: 1.484, val_acc: 62.319\n",
      "Epoch: 9, loss: 1.473, acc: 63.287, val_loss: 1.483, val_acc: 62.452\n",
      "Epoch: 10, loss: 1.471, acc: 63.363, val_loss: 1.486, val_acc: 62.298\n",
      "Epoch: 11, loss: 1.471, acc: 63.393, val_loss: 1.489, val_acc: 62.043\n",
      "Epoch: 12, loss: 1.471, acc: 63.385, val_loss: 1.484, val_acc: 62.362\n",
      "Epoch: 13, loss: 1.470, acc: 63.453, val_loss: 1.485, val_acc: 62.324\n",
      "Epoch: 14, loss: 1.469, acc: 63.488, val_loss: 1.482, val_acc: 62.527\n",
      "Epoch: 15, loss: 1.469, acc: 63.504, val_loss: 1.483, val_acc: 62.447\n",
      "Epoch: 16, loss: 1.469, acc: 63.528, val_loss: 1.484, val_acc: 62.399\n",
      "Epoch: 17, loss: 1.469, acc: 63.505, val_loss: 1.480, val_acc: 62.633\n",
      "Epoch: 18, loss: 1.467, acc: 63.611, val_loss: 1.482, val_acc: 62.511\n",
      "Epoch: 19, loss: 1.468, acc: 63.575, val_loss: 1.482, val_acc: 62.484\n",
      "Epoch: 20, loss: 1.468, acc: 63.572, val_loss: 1.483, val_acc: 62.441\n",
      "Epoch: 21, loss: 1.468, acc: 63.587, val_loss: 1.482, val_acc: 62.479\n",
      "Epoch: 22, loss: 1.467, acc: 63.615, val_loss: 1.481, val_acc: 62.532\n",
      "Epoch: 23, loss: 1.467, acc: 63.620, val_loss: 1.482, val_acc: 62.473\n",
      "Epoch: 24, loss: 1.467, acc: 63.620, val_loss: 1.482, val_acc: 62.457\n",
      "Epoch: 25, loss: 1.467, acc: 63.619, val_loss: 1.484, val_acc: 62.372\n",
      "Training Finished.\n",
      "Accuracy of the network on the 10000 test images: 98 %\n",
      "Accuracy of 0: 0.986842\n",
      "Accuracy of 1: 0.989189\n",
      "Accuracy of 2: 0.947674\n",
      "Accuracy of 3: 0.955128\n",
      "Accuracy of 4: 0.994350\n",
      "Accuracy of 5: 0.968254\n",
      "Accuracy of 6: 0.976562\n",
      "Accuracy of 7: 0.987805\n",
      "Accuracy of 8: 0.972028\n",
      "Accuracy of 9: 0.964072\n"
     ]
    },
    {
     "data": {
      "image/png": "[encoded data removed]",
      "text/plain": [
       "<Figure size 432x288 with 1 Axes>"
      ]
     },
     "metadata": {
      "needs_background": "light"
     },
     "output_type": "display_data"
    }
   ],
   "source": [
    "train_fn(25, 0.02, \"Adam\", net_1)"
   ]
  },
  {
   "cell_type": "code",
   "execution_count": 8,
   "metadata": {},
   "outputs": [
    {
     "name": "stdout",
     "output_type": "stream",
     "text": [
      "Epoch: 1, loss: 1.943, acc: 33.001, val_loss: 1.810, val_acc: 41.585\n",
      "Epoch: 2, loss: 1.797, acc: 42.425, val_loss: 1.790, val_acc: 42.729\n",
      "Epoch: 3, loss: 1.662, acc: 51.244, val_loss: 1.615, val_acc: 54.064\n",
      "Epoch: 4, loss: 1.604, acc: 54.929, val_loss: 1.603, val_acc: 54.814\n",
      "Epoch: 5, loss: 1.592, acc: 55.685, val_loss: 1.600, val_acc: 55.005\n",
      "Epoch: 6, loss: 1.585, acc: 56.063, val_loss: 1.591, val_acc: 55.606\n",
      "Epoch: 7, loss: 1.580, acc: 56.421, val_loss: 1.587, val_acc: 55.750\n",
      "Epoch: 8, loss: 1.577, acc: 56.576, val_loss: 1.588, val_acc: 55.718\n",
      "Epoch: 9, loss: 1.575, acc: 56.699, val_loss: 1.586, val_acc: 55.835\n",
      "Epoch: 10, loss: 1.574, acc: 56.807, val_loss: 1.583, val_acc: 56.000\n",
      "Epoch: 11, loss: 1.572, acc: 56.911, val_loss: 1.582, val_acc: 56.144\n",
      "Epoch: 12, loss: 1.571, acc: 56.947, val_loss: 1.582, val_acc: 56.080\n",
      "Epoch: 13, loss: 1.570, acc: 57.032, val_loss: 1.580, val_acc: 56.197\n",
      "Epoch: 14, loss: 1.568, acc: 57.124, val_loss: 1.580, val_acc: 56.207\n",
      "Epoch: 15, loss: 1.567, acc: 57.183, val_loss: 1.579, val_acc: 56.266\n",
      "Epoch: 16, loss: 1.567, acc: 57.223, val_loss: 1.580, val_acc: 56.202\n",
      "Epoch: 17, loss: 1.566, acc: 57.272, val_loss: 1.580, val_acc: 56.202\n",
      "Epoch: 18, loss: 1.565, acc: 57.305, val_loss: 1.579, val_acc: 56.250\n",
      "Epoch: 19, loss: 1.565, acc: 57.331, val_loss: 1.579, val_acc: 56.245\n",
      "Epoch: 20, loss: 1.564, acc: 57.359, val_loss: 1.579, val_acc: 56.223\n",
      "Epoch: 21, loss: 1.538, acc: 59.069, val_loss: 1.489, val_acc: 62.128\n",
      "Epoch: 22, loss: 1.476, acc: 63.136, val_loss: 1.487, val_acc: 62.266\n",
      "Epoch: 23, loss: 1.474, acc: 63.253, val_loss: 1.485, val_acc: 62.372\n",
      "Epoch: 24, loss: 1.472, acc: 63.371, val_loss: 1.484, val_acc: 62.388\n",
      "Epoch: 25, loss: 1.471, acc: 63.403, val_loss: 1.484, val_acc: 62.394\n",
      "Training Finished.\n",
      "Accuracy of the network on the 10000 test images: 97 %\n",
      "Accuracy of 0: 0.986842\n",
      "Accuracy of 1: 0.989189\n",
      "Accuracy of 2: 0.959302\n",
      "Accuracy of 3: 0.974359\n",
      "Accuracy of 4: 0.977401\n",
      "Accuracy of 5: 0.968254\n",
      "Accuracy of 6: 0.976562\n",
      "Accuracy of 7: 0.975610\n",
      "Accuracy of 8: 0.958042\n",
      "Accuracy of 9: 0.970060\n"
     ]
    },
    {
     "data": {
      "image/png": "[encoded data removed]",
      "text/plain": [
       "<Figure size 432x288 with 1 Axes>"
      ]
     },
     "metadata": {
      "needs_background": "light"
     },
     "output_type": "display_data"
    }
   ],
   "source": [
    "# net_1.apply(weights_init)\n",
    "train_fn(25, 0.02, \"SGD\", net_1)"
   ]
  },
  {
   "cell_type": "code",
   "execution_count": 8,
   "metadata": {},
   "outputs": [
    {
     "name": "stdout",
     "output_type": "stream",
     "text": [
      "Epoch: 1, loss: 1.614, acc: 54.389, val_loss: 1.586, val_acc: 55.878\n",
      "Epoch: 2, loss: 1.548, acc: 58.451, val_loss: 1.492, val_acc: 61.878\n",
      "Epoch: 3, loss: 1.486, acc: 62.415, val_loss: 1.489, val_acc: 62.085\n",
      "Epoch: 4, loss: 1.481, acc: 62.731, val_loss: 1.489, val_acc: 62.074\n",
      "Epoch: 5, loss: 1.479, acc: 62.861, val_loss: 1.485, val_acc: 62.319\n",
      "Epoch: 6, loss: 1.477, acc: 62.984, val_loss: 1.482, val_acc: 62.516\n",
      "Epoch: 7, loss: 1.477, acc: 63.013, val_loss: 1.483, val_acc: 62.399\n",
      "Epoch: 8, loss: 1.475, acc: 63.096, val_loss: 1.481, val_acc: 62.585\n",
      "Epoch: 9, loss: 1.474, acc: 63.177, val_loss: 1.483, val_acc: 62.447\n",
      "Epoch: 10, loss: 1.473, acc: 63.231, val_loss: 1.480, val_acc: 62.622\n",
      "Epoch: 11, loss: 1.472, acc: 63.280, val_loss: 1.481, val_acc: 62.585\n",
      "Epoch: 12, loss: 1.472, acc: 63.336, val_loss: 1.484, val_acc: 62.383\n",
      "Epoch: 13, loss: 1.472, acc: 63.333, val_loss: 1.480, val_acc: 62.670\n",
      "Epoch: 14, loss: 1.471, acc: 63.384, val_loss: 1.481, val_acc: 62.559\n",
      "Epoch: 15, loss: 1.470, acc: 63.431, val_loss: 1.479, val_acc: 62.660\n",
      "Epoch: 16, loss: 1.470, acc: 63.453, val_loss: 1.479, val_acc: 62.723\n",
      "Epoch: 17, loss: 1.470, acc: 63.456, val_loss: 1.481, val_acc: 62.537\n",
      "Epoch: 18, loss: 1.470, acc: 63.459, val_loss: 1.482, val_acc: 62.505\n",
      "Epoch: 19, loss: 1.469, acc: 63.496, val_loss: 1.480, val_acc: 62.628\n",
      "Epoch: 20, loss: 1.468, acc: 63.559, val_loss: 1.485, val_acc: 62.314\n",
      "Epoch: 21, loss: 1.469, acc: 63.519, val_loss: 1.480, val_acc: 62.660\n",
      "Epoch: 22, loss: 1.468, acc: 63.531, val_loss: 1.481, val_acc: 62.559\n",
      "Epoch: 23, loss: 1.468, acc: 63.576, val_loss: 1.479, val_acc: 62.697\n",
      "Epoch: 24, loss: 1.467, acc: 63.624, val_loss: 1.479, val_acc: 62.707\n",
      "Epoch: 25, loss: 1.468, acc: 63.595, val_loss: 1.479, val_acc: 62.660\n",
      "Training Finished.\n",
      "Accuracy of the network on the 10000 test images: 97 %\n",
      "Accuracy of 0: 0.986842\n",
      "Accuracy of 1: 0.983784\n",
      "Accuracy of 2: 0.959302\n",
      "Accuracy of 3: 0.980769\n",
      "Accuracy of 4: 0.971751\n",
      "Accuracy of 5: 0.960317\n",
      "Accuracy of 6: 0.976562\n",
      "Accuracy of 7: 0.951220\n",
      "Accuracy of 8: 0.979021\n",
      "Accuracy of 9: 0.988024\n"
     ]
    },
    {
     "data": {
      "image/png": "[encoded data removed]",
      "text/plain": [
       "<Figure size 432x288 with 1 Axes>"
      ]
     },
     "metadata": {
      "needs_background": "light"
     },
     "output_type": "display_data"
    }
   ],
   "source": [
    "train_fn(25, 0.02, \"Adam\", net_2)"
   ]
  },
  {
   "cell_type": "code",
   "execution_count": 8,
   "metadata": {},
   "outputs": [
    {
     "name": "stdout",
     "output_type": "stream",
     "text": [
      "Epoch: 1, loss: 1.668, acc: 50.983, val_loss: 1.610, val_acc: 54.420\n",
      "Epoch: 2, loss: 1.572, acc: 57.029, val_loss: 1.509, val_acc: 61.005\n",
      "Epoch: 3, loss: 1.498, acc: 61.836, val_loss: 1.495, val_acc: 61.798\n",
      "Epoch: 4, loss: 1.490, acc: 62.285, val_loss: 1.498, val_acc: 61.463\n",
      "Epoch: 5, loss: 1.486, acc: 62.492, val_loss: 1.488, val_acc: 62.202\n",
      "Epoch: 6, loss: 1.483, acc: 62.701, val_loss: 1.490, val_acc: 62.043\n",
      "Epoch: 7, loss: 1.481, acc: 62.797, val_loss: 1.485, val_acc: 62.287\n",
      "Epoch: 8, loss: 1.479, acc: 62.900, val_loss: 1.489, val_acc: 62.117\n",
      "Epoch: 9, loss: 1.478, acc: 62.971, val_loss: 1.491, val_acc: 61.952\n",
      "Epoch: 10, loss: 1.477, acc: 63.040, val_loss: 1.484, val_acc: 62.415\n",
      "Epoch: 11, loss: 1.475, acc: 63.153, val_loss: 1.483, val_acc: 62.479\n",
      "Epoch: 12, loss: 1.473, acc: 63.256, val_loss: 1.484, val_acc: 62.452\n",
      "Epoch: 13, loss: 1.474, acc: 63.197, val_loss: 1.483, val_acc: 62.452\n",
      "Epoch: 14, loss: 1.473, acc: 63.271, val_loss: 1.483, val_acc: 62.457\n",
      "Epoch: 15, loss: 1.472, acc: 63.340, val_loss: 1.483, val_acc: 62.489\n",
      "Epoch: 16, loss: 1.471, acc: 63.388, val_loss: 1.481, val_acc: 62.590\n",
      "Epoch: 17, loss: 1.471, acc: 63.395, val_loss: 1.480, val_acc: 62.644\n",
      "Epoch: 18, loss: 1.470, acc: 63.447, val_loss: 1.481, val_acc: 62.612\n",
      "Epoch: 19, loss: 1.470, acc: 63.436, val_loss: 1.482, val_acc: 62.559\n",
      "Epoch: 20, loss: 1.469, acc: 63.540, val_loss: 1.480, val_acc: 62.665\n",
      "Epoch: 21, loss: 1.469, acc: 63.527, val_loss: 1.482, val_acc: 62.489\n",
      "Epoch: 22, loss: 1.468, acc: 63.565, val_loss: 1.479, val_acc: 62.670\n",
      "Epoch: 23, loss: 1.468, acc: 63.600, val_loss: 1.479, val_acc: 62.729\n",
      "Epoch: 24, loss: 1.468, acc: 63.584, val_loss: 1.479, val_acc: 62.755\n",
      "Epoch: 25, loss: 1.468, acc: 63.615, val_loss: 1.480, val_acc: 62.644\n",
      "Training Finished.\n",
      "Accuracy of the network on the 10000 test images: 98 %\n",
      "Accuracy of 0: 0.986842\n",
      "Accuracy of 1: 0.983784\n",
      "Accuracy of 2: 0.959302\n",
      "Accuracy of 3: 0.980769\n",
      "Accuracy of 4: 0.994350\n",
      "Accuracy of 5: 0.984127\n",
      "Accuracy of 6: 0.976562\n",
      "Accuracy of 7: 0.987805\n",
      "Accuracy of 8: 0.986014\n",
      "Accuracy of 9: 0.970060\n"
     ]
    },
    {
     "data": {
      "image/png": "[encoded data removed]",
      "text/plain": [
       "<Figure size 432x288 with 1 Axes>"
      ]
     },
     "metadata": {
      "needs_background": "light"
     },
     "output_type": "display_data"
    }
   ],
   "source": [
    "# net_2.apply(weights_init)\n",
    "train_fn(25, 0.02, \"SGD\", net_2)"
   ]
  },
  {
   "cell_type": "code",
   "execution_count": null,
   "metadata": {},
   "outputs": [],
   "source": []
  }
 ],
 "metadata": {
  "kernelspec": {
   "display_name": "Python 3",
   "language": "python",
   "name": "python3"
  },
  "language_info": {
   "codemirror_mode": {
    "name": "ipython",
    "version": 3
   },
   "file_extension": ".py",
   "mimetype": "text/x-python",
   "name": "python",
   "nbconvert_exporter": "python",
   "pygments_lexer": "ipython3",
   "version": "3.7.3"
  }
 },
 "nbformat": 4,
 "nbformat_minor": 4
}
