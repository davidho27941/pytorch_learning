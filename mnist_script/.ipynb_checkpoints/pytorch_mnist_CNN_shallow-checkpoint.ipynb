{
 "cells": [
  {
   "cell_type": "code",
   "execution_count": 24,
   "metadata": {},
   "outputs": [],
   "source": [
    "import torch, tqdm\n",
    "import matplotlib.pyplot as plt\n",
    "from torchvision import datasets, transforms\n",
    "import numpy as np\n",
    "import matplotlib.pyplot as plt\n",
    "import pandas as pd\n",
    "from torch.utils.data.sampler import SubsetRandomSampler"
   ]
  },
  {
   "cell_type": "code",
   "execution_count": 25,
   "metadata": {},
   "outputs": [
    {
     "name": "stdout",
     "output_type": "stream",
     "text": [
      "GPU State: cuda:0\n"
     ]
    }
   ],
   "source": [
    "# GPU\n",
    "device = 'cuda:0' if torch.cuda.is_available() else 'cpu'\n",
    "print('GPU State:', device)"
   ]
  },
  {
   "cell_type": "code",
   "execution_count": 26,
   "metadata": {},
   "outputs": [],
   "source": [
    "# Transform\n",
    "transform = transforms.Compose(\n",
    "    [transforms.ToTensor(),\n",
    "     transforms.Normalize((0.5,), (0.5,)),]\n",
    ")"
   ]
  },
  {
   "cell_type": "code",
   "execution_count": 28,
   "metadata": {},
   "outputs": [],
   "source": [
    "# Data\n",
    "valid_size=0.2\n",
    "shuffle = True\n",
    "random_seed = 100\n",
    "trainSet = datasets.MNIST(root='MNIST', download=True, train=True, transform=transform)\n",
    "valSet = datasets.MNIST(root='MNIST', download=True, train=True, transform=transform)\n",
    "testSet = datasets.MNIST(root='MNIST', download=True, train=False, transform=transform)\n",
    "\n",
    "num_train = len(trainSet)\n",
    "indices = list(range(num_train))\n",
    "split = int(np.floor(valid_size * num_train))\n",
    "\n",
    "if shuffle == True:\n",
    "    np.random.seed(random_seed)\n",
    "    np.random.shuffle(indices)\n",
    "train_idx, valid_idx = indices[split:], indices[:split]\n",
    "\n",
    "train_sampler = SubsetRandomSampler(train_idx)\n",
    "valid_sampler = SubsetRandomSampler(valid_idx)\n",
    "\n",
    "trainLoader = torch.utils.data.DataLoader(trainSet, batch_size=64, sampler=train_sampler)\n",
    "valLoader = torch.utils.data.DataLoader(valSet, batch_size=64, sampler=valid_sampler)\n",
    "testLoader = torch.utils.data.DataLoader(testSet, batch_size=64, shuffle=False)"
   ]
  },
  {
   "cell_type": "code",
   "execution_count": 29,
   "metadata": {},
   "outputs": [
    {
     "name": "stdout",
     "output_type": "stream",
     "text": [
      "Shallow_Net(\n",
      "  (main): Sequential(\n",
      "    (0): Conv2d(1, 10, kernel_size=(2, 2), stride=(1, 1))\n",
      "    (1): ReLU()\n",
      "    (2): Conv2d(10, 20, kernel_size=(2, 2), stride=(1, 1))\n",
      "    (3): ReLU()\n",
      "    (4): Flatten()\n",
      "    (5): Linear(in_features=13520, out_features=10, bias=True)\n",
      "    (6): Softmax(dim=1)\n",
      "  )\n",
      ")\n",
      "Shallow_Net_w_MaxPooling(\n",
      "  (main): Sequential(\n",
      "    (0): Conv2d(1, 10, kernel_size=(2, 2), stride=(1, 1))\n",
      "    (1): ReLU()\n",
      "    (2): Conv2d(10, 20, kernel_size=(2, 2), stride=(1, 1))\n",
      "    (3): ReLU()\n",
      "    (4): MaxPool2d(kernel_size=2, stride=1, padding=0, dilation=1, ceil_mode=False)\n",
      "    (5): Flatten()\n",
      "    (6): Linear(in_features=12500, out_features=10, bias=True)\n",
      "    (7): Softmax(dim=1)\n",
      "  )\n",
      ")\n"
     ]
    }
   ],
   "source": [
    "# Model\n",
    "class Shallow_Net(torch.nn.Module):\n",
    "    def __init__(self):\n",
    "        super(Shallow_Net, self).__init__()\n",
    "        self.main = torch.nn.Sequential(\n",
    "            torch.nn.Conv2d(in_channels=1, out_channels=10, kernel_size=2),\n",
    "            torch.nn.ReLU(),\n",
    "            torch.nn.Conv2d(in_channels=10, out_channels=20, kernel_size=2),\n",
    "            torch.nn.ReLU(),\n",
    "            torch.nn.Flatten(),\n",
    "            torch.nn.Linear(in_features=20*676, out_features=10),\n",
    "            torch.nn.Softmax(dim=1)\n",
    "        )\n",
    "\n",
    "    def forward(self, input):\n",
    "        return self.main(input)\n",
    "\n",
    "class Shallow_Net_w_MaxPooling(torch.nn.Module):\n",
    "    def __init__(self):\n",
    "        super(Shallow_Net_w_MaxPooling, self).__init__()\n",
    "        self.main = torch.nn.Sequential(\n",
    "            torch.nn.Conv2d(in_channels=1, out_channels=10, kernel_size=2),\n",
    "            torch.nn.ReLU(),\n",
    "            torch.nn.Conv2d(in_channels=10, out_channels=20, kernel_size=2),\n",
    "            torch.nn.ReLU(),\n",
    "            torch.nn.MaxPool2d(2, 1),\n",
    "            torch.nn.Flatten(),\n",
    "            torch.nn.Linear(in_features=20*625, out_features=10),\n",
    "            torch.nn.Softmax(dim=1)\n",
    "        )\n",
    "\n",
    "    def forward(self, input):\n",
    "        return self.main(input)\n",
    "    \n",
    "net_1 = Shallow_Net().to(device)\n",
    "net_2 = Shallow_Net_w_MaxPooling().to(device)\n",
    "print(net_1)\n",
    "print(net_2)"
   ]
  },
  {
   "cell_type": "code",
   "execution_count": 44,
   "metadata": {},
   "outputs": [],
   "source": [
    "def train_fn(epochs, lr, optimizer_name, net ):\n",
    "    criterion = torch.nn.CrossEntropyLoss()\n",
    "    if optimizer_name == 'SGD':\n",
    "        optimizer = torch.optim.SGD(net.parameters(), lr=lr, momentum=0.9)\n",
    "    elif optimizer_name == 'Adam':\n",
    "        optimizer = torch.optim.Adam(net.parameters(), lr=0.002)\n",
    "    else : \n",
    "        print(\"Error, please input 'SGD' or Adam.\")\n",
    "    # Train\n",
    "    epoch_loss = []\n",
    "    epoch_acc = []\n",
    "    epoch_val_loss = []\n",
    "    epoch_val_acc = []\n",
    "    for epoch in range(epochs):\n",
    "        running_loss = 0.0\n",
    "        running_acc = 0.0\n",
    "#         running_loss_val = 0.0\n",
    "#         running_acc_val = 0.0\n",
    "        net.train()\n",
    "        for times_train, data_train, times_val, data_val in enumerate(zip(trainLoader, valLoader)):\n",
    "            inputs, labels = data[0].to(device), data[1].to(device)\n",
    "    #         inputs = inputs.view(inputs.shape[0], -1)\n",
    "\n",
    "            # Zero the parameter gradients\n",
    "            optimizer.zero_grad()\n",
    "\n",
    "            # Foward + backward + optimize\n",
    "            outputs = net(inputs)\n",
    "            _, predicted = torch.max(outputs.data, 1)\n",
    "            loss = criterion(outputs, labels)\n",
    "            loss.backward()\n",
    "            optimizer.step()\n",
    "\n",
    "            # Print statistics\n",
    "            running_loss += loss.item()\n",
    "            running_acc += (labels==predicted).sum().item()\n",
    "#             if times % 100 == 99 or times+1 == len(trainLoader):\n",
    "#                 print('[%d/%d, %d/%d] loss: %.3f' % (epoch+1, epochs, times+1, len(trainLoader), running_loss/2000))\n",
    "            with torch.no_grad():\n",
    "                for times_val, data_val in enumerate(valLoader):\n",
    "                    inputs_val, labels_val = data_val[0].to(device), data_val[1].to(device)\n",
    "            #         inputs = inputs.view(inputs.shape[0], -1)\n",
    "\n",
    "                    # Zero the parameter gradients\n",
    "                    optimizer.zero_grad()\n",
    "\n",
    "                    # Foward + backward + optimize\n",
    "                    outputs_val = net(inputs_val)\n",
    "                    _, predicted_val = torch.max(outputs_val.data, 1)\n",
    "                    loss_val = criterion(outputs_val, labels_val)\n",
    "                    loss_val.backward()\n",
    "                    optimizer.step()\n",
    "\n",
    "                    # Print statistics\n",
    "                    running_loss_val += loss_val.item()\n",
    "                    running_acc_val += (labels_val==predicted_val).sum().item()\n",
    "        _epoch_loss = running_loss/len(trainLoader)\n",
    "        _epoch_acc = running_acc/len(trainLoader)\n",
    "        epoch_loss.append(_epoch_loss)\n",
    "        epoch_acc.append(_epoch_acc)\n",
    "        print(\"Epoch: {0}, loss: {1:.3f}, acc: {2:.3f}\".format(epoch+1, _epoch_loss, _epoch_acc))\n",
    "    print('Training Finished.')\n",
    "    \n",
    "    correct = 0\n",
    "    total = 0\n",
    "\n",
    "    with torch.no_grad():\n",
    "        for data in testLoader:\n",
    "            inputs, labels = data\n",
    "            inputs, labels = inputs.to(device), labels.to(device)\n",
    "    #         inputs = inputs.view(inputs.shape[0], -1)\n",
    "\n",
    "            outputs = net(inputs)\n",
    "            _, predicted = torch.max(outputs.data, 1)\n",
    "            total += labels.size(0)\n",
    "            correct += (predicted == labels).sum().item()\n",
    "\n",
    "    print('Accuracy of the network on the 10000 test images: %d %%' % (100*correct / total))\n",
    "\n",
    "    class_correct = [0 for i in range(10)]\n",
    "    class_total = [0 for i in range(10)]\n",
    "\n",
    "    with torch.no_grad():\n",
    "        net.eval()\n",
    "        for data in testLoader:\n",
    "            inputs, labels = data[0].to(device), data[1].to(device)\n",
    "    #         inputs = inputs.view(inputs.shape[0], -1)\n",
    "\n",
    "            outputs = net(inputs)\n",
    "            _, predicted = torch.max(outputs, 1)\n",
    "            c = (predicted == labels).squeeze()\n",
    "            for i in range(10):\n",
    "                label = labels[i]\n",
    "                class_correct[label] += c[i].item()\n",
    "                class_total[label] += 1\n",
    "    #             print(class_correct)\n",
    "    #             print(class_total)\n",
    "\n",
    "    for i in range(10):\n",
    "        print('Accuracy of %d: %3f' % (i, (class_correct[i]/class_total[i])))\n",
    "    acc = (100*correct / total)\n",
    "    x = np.linspace(1, epochs, num = epochs)\n",
    "    plt.plot(x, np.array(epoch_acc)/100, label='acc')\n",
    "    plt.plot(x, epoch_loss, label='loss')\n",
    "    plt.xlabel('epochs')\n",
    "    plt.ylabel('acc/loss')\n",
    "    plt.legend(loc=\"upper right\")\n",
    "    plt.savefig(\"mnist_cnn_\"+optimizer_name+\"sdg_ce_shallow_\"+str(acc)+\".png\")\n",
    "    plt.show()"
   ]
  },
  {
   "cell_type": "code",
   "execution_count": 45,
   "metadata": {},
   "outputs": [
    {
     "ename": "ValueError",
     "evalue": "not enough values to unpack (expected 4, got 2)",
     "output_type": "error",
     "traceback": [
      "\u001b[0;31m\u001b[0m",
      "\u001b[0;31mValueError\u001b[0mTraceback (most recent call last)",
      "\u001b[0;32m<ipython-input-45-613b4eb1f724>\u001b[0m in \u001b[0;36m<module>\u001b[0;34m()\u001b[0m\n\u001b[0;32m----> 1\u001b[0;31m \u001b[0mtrain_fn\u001b[0m\u001b[0;34m(\u001b[0m\u001b[0;36m25\u001b[0m\u001b[0;34m,\u001b[0m \u001b[0;36m0.02\u001b[0m\u001b[0;34m,\u001b[0m \u001b[0;34m\"Adam\"\u001b[0m\u001b[0;34m,\u001b[0m \u001b[0mnet_1\u001b[0m\u001b[0;34m)\u001b[0m\u001b[0;34m\u001b[0m\u001b[0;34m\u001b[0m\u001b[0m\n\u001b[0m",
      "\u001b[0;32m<ipython-input-44-b671813e8190>\u001b[0m in \u001b[0;36mtrain_fn\u001b[0;34m(epochs, lr, optimizer_name, net)\u001b[0m\n\u001b[1;32m     18\u001b[0m \u001b[0;31m#         running_acc_val = 0.0\u001b[0m\u001b[0;34m\u001b[0m\u001b[0;34m\u001b[0m\u001b[0;34m\u001b[0m\u001b[0m\n\u001b[1;32m     19\u001b[0m         \u001b[0mnet\u001b[0m\u001b[0;34m.\u001b[0m\u001b[0mtrain\u001b[0m\u001b[0;34m(\u001b[0m\u001b[0;34m)\u001b[0m\u001b[0;34m\u001b[0m\u001b[0;34m\u001b[0m\u001b[0m\n\u001b[0;32m---> 20\u001b[0;31m         \u001b[0;32mfor\u001b[0m \u001b[0mtimes_train\u001b[0m\u001b[0;34m,\u001b[0m \u001b[0mdata_train\u001b[0m\u001b[0;34m,\u001b[0m \u001b[0mtimes_val\u001b[0m\u001b[0;34m,\u001b[0m \u001b[0mdata_val\u001b[0m \u001b[0;32min\u001b[0m \u001b[0menumerate\u001b[0m\u001b[0;34m(\u001b[0m\u001b[0mzip\u001b[0m\u001b[0;34m(\u001b[0m\u001b[0mtrainLoader\u001b[0m\u001b[0;34m,\u001b[0m \u001b[0mvalLoader\u001b[0m\u001b[0;34m)\u001b[0m\u001b[0;34m)\u001b[0m\u001b[0;34m:\u001b[0m\u001b[0;34m\u001b[0m\u001b[0;34m\u001b[0m\u001b[0m\n\u001b[0m\u001b[1;32m     21\u001b[0m             \u001b[0minputs\u001b[0m\u001b[0;34m,\u001b[0m \u001b[0mlabels\u001b[0m \u001b[0;34m=\u001b[0m \u001b[0mdata\u001b[0m\u001b[0;34m[\u001b[0m\u001b[0;36m0\u001b[0m\u001b[0;34m]\u001b[0m\u001b[0;34m.\u001b[0m\u001b[0mto\u001b[0m\u001b[0;34m(\u001b[0m\u001b[0mdevice\u001b[0m\u001b[0;34m)\u001b[0m\u001b[0;34m,\u001b[0m \u001b[0mdata\u001b[0m\u001b[0;34m[\u001b[0m\u001b[0;36m1\u001b[0m\u001b[0;34m]\u001b[0m\u001b[0;34m.\u001b[0m\u001b[0mto\u001b[0m\u001b[0;34m(\u001b[0m\u001b[0mdevice\u001b[0m\u001b[0;34m)\u001b[0m\u001b[0;34m\u001b[0m\u001b[0;34m\u001b[0m\u001b[0m\n\u001b[1;32m     22\u001b[0m     \u001b[0;31m#         inputs = inputs.view(inputs.shape[0], -1)\u001b[0m\u001b[0;34m\u001b[0m\u001b[0;34m\u001b[0m\u001b[0;34m\u001b[0m\u001b[0m\n",
      "\u001b[0;31mValueError\u001b[0m: not enough values to unpack (expected 4, got 2)"
     ]
    }
   ],
   "source": [
    "train_fn(25, 0.02, \"Adam\", net_1)"
   ]
  },
  {
   "cell_type": "code",
   "execution_count": 8,
   "metadata": {},
   "outputs": [
    {
     "name": "stdout",
     "output_type": "stream",
     "text": [
      "1 1.4662675294540584 63.640724946695094\n",
      "2 1.4659443670498538 63.659914712153515\n",
      "3 1.4657150815799038 63.67484008528785\n",
      "4 1.4657125583589712 63.67803837953092\n",
      "5 1.4655434817139275 63.6865671641791\n",
      "6 1.4654456656624768 63.698294243070364\n",
      "7 1.4653199947973303 63.70255863539445\n",
      "8 1.465246115920386 63.704690831556505\n",
      "9 1.465254382283957 63.70362473347548\n",
      "10 1.4652137817350277 63.70575692963752\n",
      "11 1.465172905276325 63.71002132196162\n",
      "12 1.465179218412208 63.71002132196162\n",
      "13 1.465162381053225 63.71002132196162\n",
      "14 1.4651336874534835 63.711087420042645\n",
      "15 1.465116214142171 63.71215351812367\n",
      "16 1.4651291155611783 63.71215351812367\n",
      "17 1.4651097340116115 63.71215351812367\n",
      "18 1.46509840112251 63.71321961620469\n",
      "19 1.4650969901827098 63.71321961620469\n",
      "20 1.4650962477299705 63.71321961620469\n",
      "21 1.4650956317305819 63.71321961620469\n",
      "22 1.4650951828529586 63.71321961620469\n",
      "23 1.4650944810686335 63.71321961620469\n",
      "24 1.465093612289632 63.71321961620469\n",
      "25 1.4650957974543704 63.71321961620469\n",
      "Training Finished.\n",
      "Accuracy of the network on the 10000 test images: 98 %\n",
      "Accuracy of 0: 0.980263\n",
      "Accuracy of 1: 0.989189\n",
      "Accuracy of 2: 0.976744\n",
      "Accuracy of 3: 0.974359\n",
      "Accuracy of 4: 0.983051\n",
      "Accuracy of 5: 0.976190\n",
      "Accuracy of 6: 0.976562\n",
      "Accuracy of 7: 0.987805\n",
      "Accuracy of 8: 0.965035\n",
      "Accuracy of 9: 0.988024\n"
     ]
    },
    {
     "data": {
      "image/png": "[encoded data removed]",
      "text/plain": [
       "<Figure size 432x288 with 1 Axes>"
      ]
     },
     "metadata": {
      "needs_background": "light"
     },
     "output_type": "display_data"
    }
   ],
   "source": [
    "train_fn(25, 0.02, \"SGD\", net_1)"
   ]
  },
  {
   "cell_type": "code",
   "execution_count": 9,
   "metadata": {},
   "outputs": [
    {
     "name": "stdout",
     "output_type": "stream",
     "text": [
      "1 1.6379757144812073 52.68017057569296\n",
      "2 1.4878969069228751 62.30063965884862\n",
      "3 1.4816237116164999 62.68123667377399\n",
      "4 1.4798138820286244 62.78678038379531\n",
      "5 1.4769276760534438 62.96908315565032\n",
      "6 1.4755045277223404 63.06183368869936\n",
      "7 1.474182713006351 63.14498933901919\n",
      "8 1.47309430397904 63.21535181236674\n",
      "9 1.4724502285152101 63.25266524520256\n",
      "10 1.471602828390817 63.308102345415776\n",
      "11 1.4710652238524544 63.32835820895522\n",
      "12 1.4703563998248785 63.37846481876333\n",
      "13 1.4701162125510194 63.39445628997868\n",
      "14 1.4701089978472257 63.40085287846482\n",
      "15 1.4689562069073414 63.47761194029851\n",
      "16 1.4687260820159018 63.486140724946694\n",
      "17 1.468816575973527 63.48081023454158\n",
      "18 1.468179309418969 63.514925373134325\n",
      "19 1.467971950070436 63.5319829424307\n",
      "20 1.468370993508459 63.501066098081026\n",
      "21 1.4684248838597522 63.505330490405115\n",
      "22 1.4674251994598648 63.56503198294243\n",
      "23 1.4678456513866434 63.53518123667377\n",
      "24 1.4671243546105652 63.5863539445629\n",
      "25 1.4672922366209376 63.575692963752665\n",
      "Training Finished.\n",
      "Accuracy of the network on the 10000 test images: 98 %\n",
      "Accuracy of 0: 0.986842\n",
      "Accuracy of 1: 0.989189\n",
      "Accuracy of 2: 0.965116\n",
      "Accuracy of 3: 0.987179\n",
      "Accuracy of 4: 0.994350\n",
      "Accuracy of 5: 0.984127\n",
      "Accuracy of 6: 0.953125\n",
      "Accuracy of 7: 0.993902\n",
      "Accuracy of 8: 0.972028\n",
      "Accuracy of 9: 0.988024\n"
     ]
    },
    {
     "data": {
      "image/png": "[encoded data removed]",
      "text/plain": [
       "<Figure size 432x288 with 1 Axes>"
      ]
     },
     "metadata": {
      "needs_background": "light"
     },
     "output_type": "display_data"
    }
   ],
   "source": [
    "train_fn(25, 0.02, \"Adam\", net_2)"
   ]
  },
  {
   "cell_type": "code",
   "execution_count": 10,
   "metadata": {},
   "outputs": [
    {
     "name": "stdout",
     "output_type": "stream",
     "text": [
      "1 1.4665241737101378 63.61940298507463\n",
      "2 1.465792709449207 63.66844349680171\n",
      "3 1.465564402054622 63.68443496801706\n",
      "4 1.4653139396517008 63.69936034115138\n",
      "5 1.465177497757015 63.708955223880594\n",
      "6 1.465232913428024 63.70682302771855\n",
      "7 1.4649832187685123 63.7228144989339\n",
      "8 1.4650650296384082 63.714285714285715\n",
      "9 1.4649367463359955 63.723880597014926\n",
      "10 1.4649860043007175 63.72174840085288\n",
      "11 1.4648540552491065 63.72814498933902\n",
      "12 1.46489764492649 63.727078891257996\n",
      "13 1.46483837083967 63.730277185501066\n",
      "14 1.4648010071152564 63.73240938166311\n",
      "15 1.4648099955973595 63.73240938166311\n",
      "16 1.4648802375742622 63.72814498933902\n",
      "17 1.4648898936538046 63.727078891257996\n",
      "18 1.4647855495593187 63.733475479744136\n",
      "19 1.464755555205762 63.73560767590618\n",
      "20 1.4647459578412427 63.73560767590618\n",
      "21 1.4647441775814047 63.73560767590618\n",
      "22 1.4647433352368726 63.73560767590618\n",
      "23 1.4647590211713746 63.73560767590618\n",
      "24 1.4647426762814715 63.73560767590618\n",
      "25 1.4647423121720744 63.73560767590618\n",
      "Training Finished.\n",
      "Accuracy of the network on the 10000 test images: 98 %\n",
      "Accuracy of 0: 0.993421\n",
      "Accuracy of 1: 0.983784\n",
      "Accuracy of 2: 0.982558\n",
      "Accuracy of 3: 0.987179\n",
      "Accuracy of 4: 0.994350\n",
      "Accuracy of 5: 0.984127\n",
      "Accuracy of 6: 0.968750\n",
      "Accuracy of 7: 0.993902\n",
      "Accuracy of 8: 0.965035\n",
      "Accuracy of 9: 0.988024\n"
     ]
    },
    {
     "data": {
      "image/png": "[encoded data removed]",
      "text/plain": [
       "<Figure size 432x288 with 1 Axes>"
      ]
     },
     "metadata": {
      "needs_background": "light"
     },
     "output_type": "display_data"
    }
   ],
   "source": [
    "train_fn(25, 0.02, \"SGD\", net_2)"
   ]
  },
  {
   "cell_type": "code",
   "execution_count": null,
   "metadata": {},
   "outputs": [],
   "source": []
  }
 ],
 "metadata": {
  "kernelspec": {
   "display_name": "Python 3",
   "language": "python",
   "name": "python3"
  },
  "language_info": {
   "codemirror_mode": {
    "name": "ipython",
    "version": 3
   },
   "file_extension": ".py",
   "mimetype": "text/x-python",
   "name": "python",
   "nbconvert_exporter": "python",
   "pygments_lexer": "ipython3",
   "version": "3.7.3"
  }
 },
 "nbformat": 4,
 "nbformat_minor": 4
}
