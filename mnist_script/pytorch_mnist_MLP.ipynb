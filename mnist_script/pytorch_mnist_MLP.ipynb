{
 "cells": [
  {
   "cell_type": "code",
   "execution_count": 1,
   "metadata": {},
   "outputs": [],
   "source": [
    "import torch, tqdm \n",
    "import matplotlib.pyplot as plt\n",
    "from torchvision import datasets, transforms\n",
    "import numpy as np\n",
    "import matplotlib.pyplot as plt\n",
    "import pandas as pd"
   ]
  },
  {
   "cell_type": "code",
   "execution_count": 2,
   "metadata": {},
   "outputs": [
    {
     "name": "stdout",
     "output_type": "stream",
     "text": [
      "GPU State: cuda:0\n"
     ]
    }
   ],
   "source": [
    "# GPU\n",
    "device = 'cuda:0' if torch.cuda.is_available() else 'cpu'\n",
    "print('GPU State:', device)"
   ]
  },
  {
   "cell_type": "code",
   "execution_count": 3,
   "metadata": {},
   "outputs": [],
   "source": [
    "# Transform\n",
    "transform = transforms.Compose(\n",
    "    [transforms.ToTensor(),\n",
    "     transforms.Normalize((0.5,), (0.5,)),]\n",
    ")"
   ]
  },
  {
   "cell_type": "code",
   "execution_count": 4,
   "metadata": {},
   "outputs": [
    {
     "name": "stdout",
     "output_type": "stream",
     "text": [
      "Downloading http://yann.lecun.com/exdb/mnist/train-images-idx3-ubyte.gz to MNIST/MNIST/raw/train-images-idx3-ubyte.gz\n"
     ]
    },
    {
     "data": {
      "application/vnd.jupyter.widget-view+json": {
       "model_id": "ec2dffa395af4a91a4be781a10bb847b",
       "version_major": 2,
       "version_minor": 0
      },
      "text/plain": [
       "HBox(children=(FloatProgress(value=1.0, bar_style='info', layout=Layout(width='20px'), max=1.0), HTML(value=''…"
      ]
     },
     "metadata": {},
     "output_type": "display_data"
    },
    {
     "name": "stdout",
     "output_type": "stream",
     "text": [
      "Extracting MNIST/MNIST/raw/train-images-idx3-ubyte.gz to MNIST/MNIST/raw\n",
      "Downloading http://yann.lecun.com/exdb/mnist/train-labels-idx1-ubyte.gz to MNIST/MNIST/raw/train-labels-idx1-ubyte.gz\n"
     ]
    },
    {
     "data": {
      "application/vnd.jupyter.widget-view+json": {
       "model_id": "24c9e09fe40b4c79b335d82fc55ae41f",
       "version_major": 2,
       "version_minor": 0
      },
      "text/plain": [
       "HBox(children=(FloatProgress(value=1.0, bar_style='info', layout=Layout(width='20px'), max=1.0), HTML(value=''…"
      ]
     },
     "metadata": {},
     "output_type": "display_data"
    },
    {
     "name": "stdout",
     "output_type": "stream",
     "text": [
      "Extracting MNIST/MNIST/raw/train-labels-idx1-ubyte.gz to MNIST/MNIST/raw\n",
      "Downloading http://yann.lecun.com/exdb/mnist/t10k-images-idx3-ubyte.gz to MNIST/MNIST/raw/t10k-images-idx3-ubyte.gz\n"
     ]
    },
    {
     "data": {
      "application/vnd.jupyter.widget-view+json": {
       "model_id": "a1eb987dd48b46a18cd267e628580f22",
       "version_major": 2,
       "version_minor": 0
      },
      "text/plain": [
       "HBox(children=(FloatProgress(value=1.0, bar_style='info', layout=Layout(width='20px'), max=1.0), HTML(value=''…"
      ]
     },
     "metadata": {},
     "output_type": "display_data"
    },
    {
     "name": "stdout",
     "output_type": "stream",
     "text": [
      "Extracting MNIST/MNIST/raw/t10k-images-idx3-ubyte.gz to MNIST/MNIST/raw\n",
      "Downloading http://yann.lecun.com/exdb/mnist/t10k-labels-idx1-ubyte.gz to MNIST/MNIST/raw/t10k-labels-idx1-ubyte.gz\n"
     ]
    },
    {
     "data": {
      "application/vnd.jupyter.widget-view+json": {
       "model_id": "4d89e7a4173f4a8f883684a19a1646f2",
       "version_major": 2,
       "version_minor": 0
      },
      "text/plain": [
       "HBox(children=(FloatProgress(value=1.0, bar_style='info', layout=Layout(width='20px'), max=1.0), HTML(value=''…"
      ]
     },
     "metadata": {},
     "output_type": "display_data"
    },
    {
     "name": "stdout",
     "output_type": "stream",
     "text": [
      "Extracting MNIST/MNIST/raw/t10k-labels-idx1-ubyte.gz to MNIST/MNIST/raw\n",
      "Processing...\n",
      "Done!\n"
     ]
    },
    {
     "name": "stderr",
     "output_type": "stream",
     "text": [
      "/usr/local/miniconda/lib/python3.7/site-packages/torchvision/datasets/mnist.py:469: UserWarning: The given NumPy array is not writeable, and PyTorch does not support non-writeable tensors. This means you can write to the underlying (supposedly non-writeable) NumPy array using the tensor. You may want to copy the array to protect its data or make it writeable before converting it to a tensor. This type of warning will be suppressed for the rest of this program. (Triggered internally at  /opt/conda/conda-bld/pytorch_1595629427478/work/torch/csrc/utils/tensor_numpy.cpp:141.)\n",
      "  return torch.from_numpy(parsed.astype(m[2], copy=False)).view(*s)\n"
     ]
    }
   ],
   "source": [
    "# Data\n",
    "trainSet = datasets.MNIST(root='MNIST', download=True, train=True, transform=transform)\n",
    "testSet = datasets.MNIST(root='MNIST', download=True, train=False, transform=transform)\n",
    "trainLoader = torch.utils.data.DataLoader(trainSet, batch_size=64, shuffle=True)\n",
    "testLoader = torch.utils.data.DataLoader(testSet, batch_size=64, shuffle=False)"
   ]
  },
  {
   "cell_type": "code",
   "execution_count": 5,
   "metadata": {},
   "outputs": [
    {
     "name": "stdout",
     "output_type": "stream",
     "text": [
      "Net(\n",
      "  (main): Sequential(\n",
      "    (0): Linear(in_features=784, out_features=128, bias=True)\n",
      "    (1): ReLU()\n",
      "    (2): Linear(in_features=128, out_features=64, bias=True)\n",
      "    (3): ReLU()\n",
      "    (4): Linear(in_features=64, out_features=10, bias=True)\n",
      "    (5): LogSoftmax(dim=1)\n",
      "  )\n",
      ")\n"
     ]
    }
   ],
   "source": [
    "# Model\n",
    "class Net(torch.nn.Module):\n",
    "    def __init__(self):\n",
    "        super(Net, self).__init__()\n",
    "        self.main = torch.nn.Sequential(\n",
    "            torch.nn.Linear(in_features=784, out_features=128),\n",
    "            torch.nn.ReLU(),\n",
    "            torch.nn.Linear(in_features=128, out_features=64),\n",
    "            torch.nn.ReLU(),\n",
    "            torch.nn.Linear(in_features=64, out_features=10),\n",
    "            torch.nn.LogSoftmax(dim=1)\n",
    "        )\n",
    "\n",
    "    def forward(self, input):\n",
    "        return self.main(input)\n",
    "\n",
    "\n",
    "net = Net().to(device)\n",
    "print(net)"
   ]
  },
  {
   "cell_type": "code",
   "execution_count": 6,
   "metadata": {},
   "outputs": [],
   "source": [
    "# Parameters\n",
    "epochs = 100\n",
    "lr = 0.002\n",
    "criterion = torch.nn.CrossEntropyLoss()\n",
    "optimizer = torch.optim.SGD(net.parameters(), lr=0.002, momentum=0.9)"
   ]
  },
  {
   "cell_type": "code",
   "execution_count": 10,
   "metadata": {},
   "outputs": [
    {
     "name": "stderr",
     "output_type": "stream",
     "text": [
      "\n",
      " 57%|█████▋    | 536/938 [00:14<00:02, 141.93it/s]\u001b[A"
     ]
    },
    {
     "name": "stdout",
     "output_type": "stream",
     "text": [
      "1 0.15308082775909826 61.062899786780385\n",
      "2 0.1360520682990678 61.37953091684435\n",
      "3 0.12375896788045351 61.63006396588486\n",
      "4 0.11018134862966915 61.90298507462686\n",
      "5 0.1019975898989927 62.02238805970149\n",
      "6 0.09201517378859746 62.22601279317697\n",
      "7 0.08486302653804167 62.38059701492537\n",
      "8 0.07889230833001641 62.4680170575693\n",
      "9 0.0728829675324277 62.60341151385928\n",
      "10 0.06874740670925614 62.66204690831557\n",
      "11 0.06372060979615206 62.791044776119406\n",
      "12 0.059279840436579384 62.847547974413644\n",
      "13 0.05615711601044951 62.91684434968017\n",
      "14 0.05239652858789899 62.97014925373134\n",
      "15 0.04928961913682211 63.04477611940298\n",
      "16 0.04636775118498398 63.11727078891258\n",
      "17 0.04403341082043882 63.142857142857146\n",
      "18 0.04061206498308413 63.211087420042645\n",
      "19 0.03893992460634647 63.26226012793177\n",
      "20 0.03751060452241736 63.276119402985074\n",
      "21 0.035158718560339766 63.29957356076759\n",
      "22 0.031846299796908305 63.37953091684435\n",
      "23 0.03047127995070622 63.40298507462686\n",
      "24 0.029155045847045077 63.42963752665245\n",
      "25 0.027857094869771695 63.47121535181237\n",
      "26 0.02554173858018159 63.52665245202559\n",
      "27 0.024267357832286507 63.543710021321964\n",
      "28 0.02204823489179279 63.60980810234542\n",
      "29 0.021940151208153826 63.59381663113006\n",
      "30 0.020436837647193624 63.64498933901919\n",
      "31 0.018873859422409465 63.663113006396586\n",
      "32 0.01775499553150827 63.69402985074627\n",
      "33 0.017119460212595975 63.714285714285715\n",
      "34 0.01596666393094887 63.73773987206823\n",
      "35 0.015137904502107884 63.74200426439232\n",
      "36 0.014285257420541573 63.766524520255864\n",
      "37 0.01290901666471133 63.808102345415776\n",
      "38 0.01223194984547761 63.808102345415776\n",
      "39 0.011204167547890656 63.84434968017057\n",
      "40 0.010912290863893323 63.843283582089555\n",
      "41 0.010098180620184442 63.853944562899784\n",
      "42 0.009330678076180729 63.88059701492537\n",
      "43 0.009219339899301751 63.88805970149254\n",
      "44 0.008390461949206866 63.89019189765458\n",
      "45 0.008030051842139764 63.90724946695096\n",
      "46 0.007427703006907172 63.91257995735608\n",
      "47 0.007446610303630413 63.89978678038379\n",
      "48 0.0064581155622328535 63.92643923240938\n",
      "49 0.006391141525117744 63.92324093816631\n",
      "50 0.005968048587596086 63.93816631130064\n",
      "51 0.005596710215590751 63.93603411513859\n",
      "52 0.005357381616305035 63.940298507462686\n",
      "53 0.00515343019927627 63.9317697228145\n",
      "54 0.004631921648994701 63.946695095948826\n",
      "55 0.004481318569825917 63.943496801705756\n",
      "56 0.004329428001223053 63.946695095948826\n",
      "57 0.004083487519873122 63.94776119402985\n",
      "58 0.003937853774871739 63.95522388059702\n",
      "59 0.003756951513233657 63.956289978678036\n",
      "60 0.0035796178464364728 63.956289978678036\n",
      "61 0.0035288005291649613 63.95202558635395\n",
      "62 0.0031752968248811293 63.96162046908316\n",
      "63 0.003062325981336704 63.956289978678036\n",
      "64 0.003015172520715337 63.953091684434966\n",
      "65 0.0028023943710545484 63.96162046908316\n",
      "66 0.0027325875355002555 63.96055437100213\n",
      "67 0.0026707969123126456 63.95842217484009\n",
      "68 0.0025346885735443585 63.95842217484009\n",
      "69 0.002470028283639696 63.96162046908316\n",
      "70 0.0023534847253248213 63.96268656716418\n",
      "71 0.002208580178339151 63.96481876332623\n",
      "72 0.0022023686634618568 63.96268656716418\n",
      "73 0.002077795074831174 63.9637526652452\n",
      "74 0.002071027864413738 63.96162046908316\n",
      "75 0.001968293777229001 63.96162046908316\n",
      "76 0.0019255165378025709 63.96481876332623\n",
      "77 0.0018676012111150245 63.96481876332623\n",
      "78 0.0017865047495612236 63.9637526652452\n",
      "79 0.0017358734385624379 63.96268656716418\n",
      "80 0.0017125910882182644 63.96481876332623\n",
      "81 0.0016191464386180292 63.9637526652452\n",
      "82 0.001635549698395969 63.9637526652452\n",
      "83 0.0015962777407291327 63.96268656716418\n",
      "84 0.001536644003634502 63.9637526652452\n",
      "85 0.0015102850890618088 63.96481876332623\n",
      "86 0.0014096702151248565 63.96481876332623\n",
      "87 0.001388015636449655 63.96588486140725\n",
      "88 0.0013612115325338848 63.96588486140725\n",
      "89 0.0013584041613956051 63.96588486140725\n",
      "90 0.0013214957157511164 63.96268656716418\n",
      "91 0.001268397005789786 63.96588486140725\n",
      "92 0.0012717004812971406 63.96481876332623\n",
      "93 0.001202774475927254 63.96588486140725\n",
      "94 0.0012088494280555085 63.96481876332623\n",
      "95 0.0011779167192855161 63.96481876332623\n",
      "96 0.0011624835910675865 63.96588486140725\n",
      "97 0.0011218007820716904 63.96588486140725\n",
      "98 0.0010994655139177285 63.96588486140725\n",
      "99 0.001071276083392514 63.96588486140725\n",
      "100 0.0010729363999409062 63.96481876332623\n",
      "Training Finished.\n"
     ]
    }
   ],
   "source": [
    "# Train\n",
    "epoch_loss = []\n",
    "epoch_acc = []\n",
    "for epoch in range(epochs):\n",
    "    running_loss = 0.0\n",
    "    running_acc = 0.0\n",
    "#     pbar = tqdm.tqdm(total=len(trainLoader))\n",
    "    for times, data in enumerate(trainLoader):\n",
    "        inputs, labels = data[0].to(device), data[1].to(device)\n",
    "        inputs = inputs.view(inputs.shape[0], -1)\n",
    "\n",
    "        # Zero the parameter gradients\n",
    "        optimizer.zero_grad()\n",
    "\n",
    "        # Foward + backward + optimize\n",
    "        outputs = net(inputs)\n",
    "        _, predicted = torch.max(outputs.data, 1)\n",
    "        loss = criterion(outputs, labels)\n",
    "        loss.backward()\n",
    "        optimizer.step()\n",
    "\n",
    "        # Print statistics\n",
    "        running_loss += loss.item()\n",
    "        running_acc += (labels==predicted).sum().item()\n",
    "#         pbar.update(1) \n",
    "#         if times % 100 == 99 or times+1 == len(trainLoader):\n",
    "#             print('[%d/%d, %d/%d] loss: %.3f' % (epoch+1, epochs, times+1, len(trainLoader), running_loss/2000))\n",
    "    _epoch_loss = running_loss/len(trainLoader)\n",
    "    _epoch_acc = running_acc/len(trainLoader)\n",
    "    epoch_loss.append(_epoch_loss)\n",
    "    epoch_acc.append(_epoch_acc)\n",
    "    print(epoch+1, _epoch_loss, _epoch_acc)\n",
    "print('Training Finished.')"
   ]
  },
  {
   "cell_type": "code",
   "execution_count": 11,
   "metadata": {},
   "outputs": [
    {
     "data": {
      "image/png": "[encoded data removed]",
      "text/plain": [
       "<Figure size 432x288 with 1 Axes>"
      ]
     },
     "metadata": {
      "needs_background": "light"
     },
     "output_type": "display_data"
    }
   ],
   "source": [
    "x = np.linspace(1, epochs, num = epochs)\n",
    "plt.plot(x, epoch_acc, label='acc')\n",
    "plt.plot(x, epoch_loss, label='loss')\n",
    "plt.xlabel('epochs')\n",
    "plt.ylabel('acc/loss')\n",
    "plt.legend(loc=\"upper right\")\n",
    "plt.show()"
   ]
  },
  {
   "cell_type": "code",
   "execution_count": 13,
   "metadata": {},
   "outputs": [
    {
     "name": "stdout",
     "output_type": "stream",
     "text": [
      "Accuracy of the network on the 10000 test images: 97 %\n",
      "Accuracy of 0: 0.973684\n",
      "Accuracy of 1: 0.983784\n",
      "Accuracy of 2: 0.965116\n",
      "Accuracy of 3: 0.961538\n",
      "Accuracy of 4: 0.983051\n",
      "Accuracy of 5: 0.976190\n",
      "Accuracy of 6: 0.976562\n",
      "Accuracy of 7: 0.975610\n",
      "Accuracy of 8: 0.965035\n",
      "Accuracy of 9: 0.982036\n"
     ]
    }
   ],
   "source": [
    "correct = 0\n",
    "total = 0\n",
    "\n",
    "with torch.no_grad():\n",
    "    for data in testLoader:\n",
    "        inputs, labels = data\n",
    "        inputs, labels = inputs.to(device), labels.to(device)\n",
    "        inputs = inputs.view(inputs.shape[0], -1)\n",
    "\n",
    "        outputs = net(inputs)\n",
    "        _, predicted = torch.max(outputs.data, 1)\n",
    "        total += labels.size(0)\n",
    "        correct += (predicted == labels).sum().item()\n",
    "\n",
    "print('Accuracy of the network on the 10000 test images: %d %%' % (100*correct / total))\n",
    "\n",
    "class_correct = [0 for i in range(10)]\n",
    "class_total = [0 for i in range(10)]\n",
    "\n",
    "with torch.no_grad():\n",
    "    for data in testLoader:\n",
    "        inputs, labels = data[0].to(device), data[1].to(device)\n",
    "        inputs = inputs.view(inputs.shape[0], -1)\n",
    "\n",
    "        outputs = net(inputs)\n",
    "        _, predicted = torch.max(outputs, 1)\n",
    "        c = (predicted == labels).squeeze()\n",
    "        for i in range(10):\n",
    "            label = labels[i]\n",
    "            class_correct[label] += c[i].item()\n",
    "            class_total[label] += 1\n",
    "#             print(class_correct)\n",
    "#             print(class_total)\n",
    "\n",
    "for i in range(10):\n",
    "    print('Accuracy of %d: %3f' % (i, (class_correct[i]/class_total[i])))"
   ]
  },
  {
   "cell_type": "code",
   "execution_count": null,
   "metadata": {},
   "outputs": [],
   "source": []
  }
 ],
 "metadata": {
  "kernelspec": {
   "display_name": "Python 3",
   "language": "python",
   "name": "python3"
  },
  "language_info": {
   "codemirror_mode": {
    "name": "ipython",
    "version": 3
   },
   "file_extension": ".py",
   "mimetype": "text/x-python",
   "name": "python",
   "nbconvert_exporter": "python",
   "pygments_lexer": "ipython3",
   "version": "3.7.3"
  }
 },
 "nbformat": 4,
 "nbformat_minor": 4
}
